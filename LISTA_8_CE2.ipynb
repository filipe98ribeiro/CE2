{
  "nbformat": 4,
  "nbformat_minor": 0,
  "metadata": {
    "colab": {
      "name": "LISTA 8 CE2",
      "provenance": []
    },
    "kernelspec": {
      "name": "python3",
      "display_name": "Python 3"
    },
    "language_info": {
      "name": "python"
    }
  },
  "cells": [
    {
      "cell_type": "markdown",
      "metadata": {
        "id": "wGQSe5EwaH_N"
      },
      "source": [
        "\n",
        "\n",
        "*   Filipe Oliveira do Vale Ribeiro\n",
        "*   Matrícula: 170103102\n",
        "*   Computação em Estatística 2\n"
      ]
    },
    {
      "cell_type": "code",
      "metadata": {
        "colab": {
          "base_uri": "https://localhost:8080/"
        },
        "id": "sfMLCNcmJlQ5",
        "outputId": "310c5715-b637-44a9-bf35-3bec8890f4f4"
      },
      "source": [
        "import random\n",
        "\n",
        "def escolhe(matricula):\n",
        "    random.seed(matricula)\n",
        "    cap1 = (2,8,9,11,12,15,16,18,20,21,22,24,26,27,28,30,31,32)    \n",
        "    cap2 = (36,40,44,45,46,48,50,51,53,55,56,57,59,60)\n",
        "    cap3 = (63,64,65,68,71,72,74,76,78,80,81,84)\n",
        "    cap4 = (85,86,87,89,91,92,94,97,99,101,103,104,106)\n",
        "    cap5 = (111,115,117,118,119,122,123,124,126,127,131,132,133)\n",
        "    cap6 = (138,139,140,141,144,147,148)\n",
        "    cap7 = (152,153,154,155,157,160,161,164,165,166,168,171,172)\n",
        "    cap8 = (174,175,176,177,179,181,182,185)\n",
        "    return(random.sample(cap8, k=2))\n",
        "\n",
        "print(\"Você deverá entregar os exercícios: \", escolhe(input(\"Escreva o número de sua matricula\")))"
      ],
      "execution_count": 1,
      "outputs": [
        {
          "output_type": "stream",
          "text": [
            "Escreva o número de sua matricula170103102\n",
            "Você deverá entregar os exercícios:  [174, 182]\n"
          ],
          "name": "stdout"
        }
      ]
    },
    {
      "cell_type": "markdown",
      "metadata": {
        "id": "Nzfs_-wpLBMq"
      },
      "source": [
        "\n",
        "\n",
        "*   Questão 174)\n",
        "\n"
      ]
    },
    {
      "cell_type": "code",
      "metadata": {
        "colab": {
          "base_uri": "https://localhost:8080/"
        },
        "id": "bupVg_HRLGMm",
        "outputId": "0f21e66a-c6a2-41eb-9896-0fe3ca609e13"
      },
      "source": [
        "def mdc(a,b):\n",
        "  maior = max(a,b)\n",
        "  menor = min(a,b)\n",
        "  c = maior % menor \n",
        "  if c == 0:\n",
        "    print(\"O mdc é: \",menor)\n",
        "  else :\n",
        "    return mdc(menor,c)\n",
        "mdc(int(input(\"1º Número:\")),int(input(\"2º Número:\")))"
      ],
      "execution_count": 31,
      "outputs": [
        {
          "output_type": "stream",
          "text": [
            "1º Número:4\n",
            "2º Número:6\n",
            "O mdc é:  2\n"
          ],
          "name": "stdout"
        }
      ]
    },
    {
      "cell_type": "markdown",
      "metadata": {
        "id": "adIkb5zdMuYD"
      },
      "source": [
        "\n",
        "\n",
        "*   Questão 182)\n",
        "\n",
        "\n"
      ]
    },
    {
      "cell_type": "code",
      "metadata": {
        "colab": {
          "base_uri": "https://localhost:8080/"
        },
        "id": "PUbtB9gwMynn",
        "outputId": "8511a32d-14f6-4c0f-d908-f8475149de35"
      },
      "source": [
        "def escreve_simb(string, symbols, spell=''):\n",
        "    string = string.lower()\n",
        "    if not string:\n",
        "        return spell\n",
        "    for sym in symbols:\n",
        "        if string[:len(sym)] == sym.lower():\n",
        "            spell+=sym\n",
        "            break\n",
        "    else:\n",
        "         return ''\n",
        "    \n",
        "    return escreve_simb(string[len(sym):], symbols, spell)\n",
        "\n",
        "with open(\"elements.txt\", \"r\") as f:\n",
        "    elementos = dict(linha.rstrip().split(',')[1:] for linha in f)\n",
        "    simbolos = elementos.keys()\n",
        "\n",
        "for elemento in elementos.values():\n",
        "    conv = escreve_simb(elemento, simbolos)\n",
        "    if conv:\n",
        "        print(f\"{elemento} pode ser escrito como {conv}.\")\n",
        "    "
      ],
      "execution_count": 50,
      "outputs": [
        {
          "output_type": "stream",
          "text": [
            "Carbon pode ser escrito como CArBON.\n",
            "Silicon pode ser escrito como SiLiCON.\n",
            "Phosphorus pode ser escrito como PHOSPHORuS.\n",
            "Copper pode ser escrito como COPPEr.\n",
            "Silver pode ser escrito como SiLvEr.\n",
            "Tin pode ser escrito como TiN.\n",
            "Xenon pode ser escrito como XeNON.\n"
          ],
          "name": "stdout"
        }
      ]
    },
    {
      "cell_type": "markdown",
      "metadata": {
        "id": "4iisU4nBY5r-"
      },
      "source": [
        "\n",
        "\n",
        "*   Questão 175)\n",
        "\n",
        "\n"
      ]
    },
    {
      "cell_type": "code",
      "metadata": {
        "colab": {
          "base_uri": "https://localhost:8080/"
        },
        "id": "z4du1_TLWVig",
        "outputId": "a020d1d2-34e1-4fb4-f26f-6502366b8877"
      },
      "source": [
        "def binary(n):\n",
        "   if n > 1:\n",
        "       binary(n//2)\n",
        "   print(n % 2,end = '')\n",
        "   \n",
        " \n",
        "binary(int(input(\"Entre um inteiro: \")))"
      ],
      "execution_count": 16,
      "outputs": [
        {
          "output_type": "stream",
          "text": [
            "Entre um inteiro: 4\n",
            "100"
          ],
          "name": "stdout"
        }
      ]
    },
    {
      "cell_type": "markdown",
      "metadata": {
        "id": "gtHRK7DlmpE3"
      },
      "source": [
        "\n",
        "\n",
        "*   Questão 176 \n",
        "\n",
        "\n"
      ]
    },
    {
      "cell_type": "code",
      "metadata": {
        "colab": {
          "base_uri": "https://localhost:8080/"
        },
        "id": "KoIeTk2UX1I2",
        "outputId": "003cdb43-4c12-4a0b-84ab-d1547e74e407"
      },
      "source": [
        "\n",
        "def nato_alphabet(string):\n",
        "    string = string.upper()\n",
        "    nato = {'A':'Alpha', 'B':'Bravo','C':'Charlie', 'D':'Delta', 'E':'Echo', 'F':'Foxtrot', \n",
        "            'G':'Golf',\"H\":\"Hotel\", 'I':'India', 'J':'Juliet', 'K':'Kilo', 'L':'Lima', \n",
        "            'M':'Mike', 'N':'November', 'O':'Oscar', 'P':'Papa', 'Q':'Quebec',\n",
        "            'R':'Romeo', 'S':'Sierra', 'T':'Tango', 'U':'Uniform', 'V':'Victor', \n",
        "            'W':'Whiskey', 'X':'Xray', 'Y':'Yankee', 'Z':'Zulu'}\n",
        "    if len(string) == 0:\n",
        "        return ''\n",
        "    return nato[string[0]] + ' ' + nato_alphabet(string[1:])\n",
        "\n",
        "\n",
        "print(nato_alphabet(input('Insira uma palavra: ')))"
      ],
      "execution_count": 30,
      "outputs": [
        {
          "output_type": "stream",
          "text": [
            "Insira uma palavra: abcd\n",
            "Alpha Bravo Charlie Delta \n"
          ],
          "name": "stdout"
        }
      ]
    },
    {
      "cell_type": "markdown",
      "metadata": {
        "id": "e3zMG-46uInz"
      },
      "source": [
        "\n",
        "\n",
        "*   Questão 179)\n",
        "\n",
        "\n"
      ]
    },
    {
      "cell_type": "code",
      "metadata": {
        "colab": {
          "base_uri": "https://localhost:8080/"
        },
        "id": "iuMNU9_nuNOJ",
        "outputId": "ae801792-f750-46dd-d521-19cd8b5a8e1b"
      },
      "source": [
        "def raiz(n, suposicao=1.0):\n",
        "    if abs(suposicao * suposicao - n) < 1e-12:\n",
        "        return suposicao\n",
        "    return raiz(n, (suposicao + n/suposicao)/2)\n",
        "\n",
        "print(raiz(4))\n",
        "print(raiz(9))\n",
        "print(raiz(16))"
      ],
      "execution_count": 44,
      "outputs": [
        {
          "output_type": "stream",
          "text": [
            "2.000000000000002\n",
            "3.0\n",
            "4.000000000000051\n"
          ],
          "name": "stdout"
        }
      ]
    },
    {
      "cell_type": "code",
      "metadata": {
        "id": "6ul_-gUxvtDK"
      },
      "source": [
        "%%shell\n",
        "jupyter nbconvert --to html /content/LISTA_8_CE2.ipynb"
      ],
      "execution_count": null,
      "outputs": []
    }
  ]
}